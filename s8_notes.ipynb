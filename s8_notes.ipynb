{
 "cells": [
  {
   "cell_type": "markdown",
   "metadata": {},
   "source": [
    "# 8.1 - Priority Queues\n",
    "\n",
    "- Priority queues store a collection of elements and support arbitrary element insertion\n",
    "- Element removal is limited; **only the element with the highest priority can be removed at any time**\n",
    "- Compared to other data structures that store elements at specific and meaningful positions, the priority queue simply stores elements according to their priorities, and has no notion of positions\n",
    "\n",
    "**Keys, Priorities, and Total Order Relations**\n",
    "- A **key** is an object that is assigned to an element in a collection as a *specific attribute* for that element\n",
    "- Keys are assigned to elements by applications\n",
    "    - Ex. comparing several companies by assigning a key that represents earnings or number of employees.\n",
    "- Keys can sometimes be a more complicated property that cannot be quantified by a single number\n",
    "    - Ex. in a priority of standby flight passengers a key may need to take into account multiple factors including: frequent-flyer status, fare paid, check-in times, etc.\n",
    "    - The key for an object may be data extracted from the object itself (weight of a car) or it may be generated externally (quality rating from an analyst)\n",
    "    \n",
    "A priority queue needs a robust comparison rule, denoted $\\leq$, which defines a **total order** relation that is\n",
    "- Reflexive: $k \\leq k$\n",
    "- Antisymmetric: If $ k_1 \\leq k_2$ then $ k_2 \\nleq k_1$, unless $ k_2 = k_1$\n",
    "- Transitive: If $k_1 \\leq k_2$ and $ k_2 \\leq k_3$, then $ k_1 \\leq k_3$\n",
    "\n",
    "Any comparison rule which satisfies these properties is guaranteed to be robust and non-contradictory.\n",
    "- Then there exists a $k_(min)$ and $k_max$ that refer to the minimum and maximum key in a set, respectively\n",
    "\n",
    "**A priority queue is a container of elements, each associated with a key.** The \"priority\" refers to the notion that the keys determine the order in which elements are removed from the container.\n",
    "\n",
    "The fundamental operations on a priority queue $P$ are:\n",
    "- insert($e$): inserts the element $e$ (has an associated key value) into $P$\n",
    "- min(): returns the element whose key is $k_min$\n",
    "    - Multiple elements may have $k_min$\n",
    "- removeMin():  removes the element returned by min()\n",
    "    - Since multiple elements may have $k_min$, only remove the one returned by min()\n",
    "    \n",
    "**Comparators - how to specify the total order relation for comparing keys**\n",
    "\n",
    "The most generalizable way to do this is to design the priority queue as a templated class, and require that each concrete class that serves as an element of the priority queue **provide its own mechanism for comparing two of its objects**. If this is done by overloading the $<$ operator, it is called a *function object*, because they act like functions."
   ]
  },
  {
   "cell_type": "markdown",
   "metadata": {},
   "source": [
    "```c++\n",
    "// Compares two 2D points. First determines whether the x-coordinates are\n",
    "// the same. If so, compares y-coordinates. Otherwise, just compares the\n",
    "// x-coordinates.\n",
    "bool operator<(const Point2D& point_a, const Point2D& point_b) {\n",
    "    if (point_a.getX() == point_b.getX()) return point_a.getY() < point_b.getY();\n",
    "    else return (point_a.getX() < point_b.getX())\n",
    "}\n",
    "```"
   ]
  },
  {
   "cell_type": "markdown",
   "metadata": {},
   "source": []
  }
 ],
 "metadata": {
  "kernelspec": {
   "display_name": "C++17",
   "language": "C++17",
   "name": "xcpp17"
  },
  "language_info": {
   "codemirror_mode": "text/x-c++src",
   "file_extension": ".cpp",
   "mimetype": "text/x-c++src",
   "name": "c++",
   "version": "-std=c++17"
  }
 },
 "nbformat": 4,
 "nbformat_minor": 2
}
