{
 "cells": [
  {
   "cell_type": "code",
   "execution_count": 1,
   "metadata": {},
   "outputs": [],
   "source": [
    "#include <iostream>\n",
    "#include <list>\n",
    "using namespace std;"
   ]
  },
  {
   "cell_type": "markdown",
   "metadata": {},
   "source": [
    "# 7.1 - Trees\n",
    "\n",
    "A tree $T$ can be defined as a set of nodes which store elements that exist in a **parent-child relationship.** \n",
    "\n",
    "Properties of a tree $T$:\n",
    "- If $T$ is nonempty, then it has a node called its **root** which has no parent\n",
    "- Each *other* node of $T$ has a **unique** parent $w$, and every node with parent $w$ is a child of $w$\n",
    "\n",
    "Using these properties, trees can be defined **recursively**:\n",
    "- A tree $T$ is either empty, or it contains a root $r$ whose children are the roots of a set of (sub)trees.\n",
    "\n",
    "Tree terminology regarding relationships between nodes and substructures:\n",
    "- Siblings: two or more nodes which have the same parent\n",
    "- Internal node: any node that has at least one child\n",
    "- Leaf/External node: any node which has no children\n",
    "- Ancestor: A node $v$ is an ancestor of a node $w$ if $v = w$ or if $v$ is an ancestor of a parent of $w$\n",
    "- Subtree of $T$ rooted at $v$: describes the tree which consists of node $v$ and all its descendents in the tree $T$\n",
    "- Edge: a pair of parent-child nodes, ex. $(u,v)$\n",
    "- Path: a sequence of parent-child nodes, or a sequence of nodes in which any two consecutive nodes form an edge\n",
    "- Ordered tree: describes a tree in which the left-to-right arrangement of siblings corresponds to a relationship that is relevant to the usage of the tree\n",
    "\n",
    "**The Tree API**\n",
    "    \n",
    "Recall that the *position* data type abstracts the notion of the relative position or place of an element within a data structure. Because nodes are internal aspects of the implementation of trees, it is appropriate to encapsulate the nodes using position objects. Practically, this means that the arguments to Tree methods are positions, not nodes. However, we can still conceptually think of the methods as acting on nodes.\n",
    "\n",
    "The Position interface consists of five methods:"
   ]
  },
  {
   "cell_type": "code",
   "execution_count": 2,
   "metadata": {},
   "outputs": [
    {
     "name": "stderr",
     "output_type": "stream",
     "text": [
      "\u001b[1minput_line_9:2:7: \u001b[0m\u001b[0;1;31merror: \u001b[0m\u001b[1mexplicit specialization of non-template class 'Position'\u001b[0m\n",
      "class Position<E> {\n",
      "\u001b[0;1;32m      ^       ~~~\n",
      "\u001b[0m\u001b[1minput_line_9:6:3: \u001b[0m\u001b[0;1;31merror: \u001b[0m\u001b[1munknown type name 'PositionList'; did you mean 'Position'?\u001b[0m\n",
      "  PositionList children() const;      // get a list of the node's children\n",
      "\u001b[0;1;32m  ^~~~~~~~~~~~\n",
      "\u001b[0m\u001b[0;32m  Position\n",
      "\u001b[0m\u001b[1minput_line_9:2:7: \u001b[0m\u001b[0;1;30mnote: \u001b[0m'Position' declared here\u001b[0m\n",
      "class Position<E> {\n",
      "\u001b[0;1;32m      ^\n",
      "\u001b[0m"
     ]
    },
    {
     "ename": "Interpreter Error",
     "evalue": "",
     "output_type": "error",
     "traceback": [
      "Interpreter Error: "
     ]
    }
   ],
   "source": [
    "template <typename E>\n",
    "class Position<E> {\n",
    "public:\n",
    "  E& operator*();                     // get the node's element\n",
    "  Position parent() const;            // get parent\n",
    "  PositionList children() const;      // get a list of the node's children\n",
    "  bool isRoot() const;                // returns true if root, false otherwise\n",
    "  bool isExternal() const;            // returns true if external, false otherwise\n",
    "};"
   ]
  },
  {
   "cell_type": "markdown",
   "metadata": {},
   "source": [
    "The Tree interface consists of four methods:"
   ]
  },
  {
   "cell_type": "code",
   "execution_count": null,
   "metadata": {},
   "outputs": [],
   "source": [
    "template <typename E>\n",
    "class Tree<E> {\n",
    "public:\n",
    "  class Position;\n",
    "  class PositionList;                      // give public access to Position and PositionList; this is \n",
    "                                           // how other objects will use the Tree\n",
    "  \n",
    "  int size() const;       \n",
    "  bool empty() const;\n",
    "  Position root() const;                   // get the root of the tree\n",
    "  PositionList positions() const;          // get a list of positions referring to each node in the\n",
    "                                           // tree"
   ]
  },
  {
   "cell_type": "markdown",
   "metadata": {},
   "source": [
    "Trees can be implemented using a **linked structure** in which each node of the tree is represented by a position object that has three fields:\n",
    "- Pointer to the node's parent (NULL, if root)\n",
    "- Reference to the node's element\n",
    "- Pointer to a container holding the node's children (a list, in the above interface)\n",
    "\n",
    "Then the running times of the functions are:\n",
    "\n",
    "| Operation | Running time   |\n",
    "|------|------|\n",
    "|   isRoot, isExternal  | O(1) |\n",
    "| parent | O(1) |\n",
    "| children(p) | O($c_p$)|\n",
    "| size, empty | O(1) |\n",
    "| root | O(1) |\n",
    "| positions | O($n$) |\n",
    "\n",
    "Where $c_p$ is the number of children of the node referenced by $p$."
   ]
  },
  {
   "cell_type": "markdown",
   "metadata": {},
   "source": [
    "# 7.2 - Tree Traversal Algorithms\n",
    "\n",
    "Trees can be traversed using the tree ADT methods described above. We define some useful properties of trees in their traversal.\n",
    "\n",
    "**Depth**\n",
    "\n",
    "The depth of a node $p$ in a tree $T$ is defined as the number of ancestors of $p$, excluding itself. Alternatively, the depth of node $p$ can be defined recursively as:\n",
    "- Zero, if $p$ is a root\n",
    "- One plus the depth of the parent of $p$\n",
    "\n",
    "The recursive definition is probably the easiest to implement in C++."
   ]
  },
  {
   "cell_type": "code",
   "execution_count": 3,
   "metadata": {},
   "outputs": [
    {
     "name": "stderr",
     "output_type": "stream",
     "text": [
      "\u001b[1minput_line_10:1:17: \u001b[0m\u001b[0;1;31merror: \u001b[0m\u001b[1munknown type name 'Tree'\u001b[0m\n",
      "int depth(const Tree& tree, const Position& node) {\n",
      "\u001b[0;1;32m                ^\n",
      "\u001b[0m\u001b[1minput_line_10:1:35: \u001b[0m\u001b[0;1;31merror: \u001b[0m\u001b[1munknown type name 'Position'\u001b[0m\n",
      "int depth(const Tree& tree, const Position& node) {\n",
      "\u001b[0;1;32m                                  ^\n",
      "\u001b[0m"
     ]
    },
    {
     "ename": "Interpreter Error",
     "evalue": "",
     "output_type": "error",
     "traceback": [
      "Interpreter Error: "
     ]
    }
   ],
   "source": [
    "int depth(const Tree& tree, const Position& node) {\n",
    "    if (node.isRoot()) return 0;\n",
    "    return 1 + depth(tree, node.parent());\n",
    "}"
   ]
  },
  {
   "cell_type": "markdown",
   "metadata": {},
   "source": [
    "The running time of depth(Tree, node) is $O$(node depth) because it must recursively call itself until the input node becomes the root. The worst-case running time is $O(n)$, where $n$ is the total number of nodes in the tree, if some nodes have depth $n$.\n",
    "\n",
    "**Height** \n",
    "\n",
    "Whereas depth is a measure of the downwards distance of a node from the root, height is a measure of the upwards distance of a node from the lowest connected node. \n",
    "\n",
    "The height of a node $p$ in a tree $T$ can be defined recursively as:\n",
    "- Zero, if $p$ is an external node\n",
    "- One plus the maximum height among the children of $p$\n",
    "\n",
    "The height of a **tree** $T$ is the height of the root node of $T$. The height of a tree can also be viewed as the **maximum depth** among all external nodes. Using the recursive definition to implement a C++ function is more efficient than using the maximum depth definition. "
   ]
  },
  {
   "cell_type": "code",
   "execution_count": 2,
   "metadata": {},
   "outputs": [
    {
     "name": "stderr",
     "output_type": "stream",
     "text": [
      "\u001b[1minput_line_8:1:18: \u001b[0m\u001b[0;1;31merror: \u001b[0m\u001b[1munknown type name 'Tree'\u001b[0m\n",
      "int height(const Tree& tree, const Position& node) {\n",
      "\u001b[0;1;32m                 ^\n",
      "\u001b[0m\u001b[1minput_line_8:1:36: \u001b[0m\u001b[0;1;31merror: \u001b[0m\u001b[1munknown type name 'Position'\u001b[0m\n",
      "int height(const Tree& tree, const Position& node) {\n",
      "\u001b[0;1;32m                                   ^\n",
      "\u001b[0m\u001b[1minput_line_8:3:5: \u001b[0m\u001b[0;1;31merror: \u001b[0m\u001b[1munknown type name 'PositionList'\u001b[0m\n",
      "    PositionList children = node.children();\n",
      "\u001b[0;1;32m    ^\n",
      "\u001b[0m\u001b[1minput_line_8:5:10: \u001b[0m\u001b[0;1;31merror: \u001b[0m\u001b[1munknown type name 'Iterator'\u001b[0m\n",
      "    for (Iterator node = children.begin(); node != children.end(); ++node) {\n",
      "\u001b[0;1;32m         ^\n",
      "\u001b[0m"
     ]
    },
    {
     "ename": "Interpreter Error",
     "evalue": "",
     "output_type": "error",
     "traceback": [
      "Interpreter Error: "
     ]
    }
   ],
   "source": [
    "int height(const Tree& tree, const Position& node) {\n",
    "    if (node.isExternal()) return 0;\n",
    "    PositionList children = node.children();\n",
    "    int max_height_children = 0;\n",
    "    for (Iterator node = children.begin(); node != children.end(); ++node) {\n",
    "        max_height_children = max( max_height_children, height(tree, node) )\n",
    "    }\n",
    "    return 1 + max_height_children;\n",
    "}"
   ]
  },
  {
   "cell_type": "markdown",
   "metadata": {},
   "source": [
    "The running time of the recursive height() function is $O(n)$, by the following analysis:\n",
    "- If height() is called on the root of $T$, it will eventually be called on every node of $T$ because each recursive call iterates through all the children of the input node\n",
    "- Therefore, the running time of the function is the sum of the time the function spends on each individual node\n",
    "- At each node, height() calls node.children() which takes $O(c_p)$ time to return a PositionList of the node's children, where $c_p$ is the number of children of node $p$\n",
    "- The for loop also takes $O(c_p)$ time to complete\n",
    "    - Each iteration takes $O(1)$ time to do the assignment plus the time for the recursive call to height() on the child node\n",
    "- Therefore, each call takes $O(1+c_p)$ time and the whole function takes $O(\\sum_p (1+c_p))$ time to process all the nodes in the tree\n",
    "- If a tree has $n$ nodes, then $\\sum_p c_p = n-1$ because every node except for the root is a child node of some parent node\n",
    "- Therefore, height() runs in $O(n)$ time.\n"
   ]
  },
  {
   "cell_type": "markdown",
   "metadata": {},
   "source": [
    "**Preorder Traversal**\n",
    "\n",
    "A *traversal* refers to a systematic way of visiting all the nodes in a tree $T$. In a preorder traversal of $T$, each parent node (including the root) is visited before their children. If the tree is ordered, the the children should be visited in order. Then the tree is processed \"top-down\", in the sense that "
   ]
  },
  {
   "cell_type": "code",
   "execution_count": 3,
   "metadata": {},
   "outputs": [
    {
     "name": "stderr",
     "output_type": "stream",
     "text": [
      "\u001b[1minput_line_9:1:30: \u001b[0m\u001b[0;1;31merror: \u001b[0m\u001b[1munknown type name 'Tree'\u001b[0m\n",
      "void preorderTraversal(const Tree& tree, const Position& node) {\n",
      "\u001b[0;1;32m                             ^\n",
      "\u001b[0m\u001b[1minput_line_9:1:48: \u001b[0m\u001b[0;1;31merror: \u001b[0m\u001b[1munknown type name 'Position'\u001b[0m\n",
      "void preorderTraversal(const Tree& tree, const Position& node) {\n",
      "\u001b[0;1;32m                                               ^\n",
      "\u001b[0m\u001b[1minput_line_9:3:5: \u001b[0m\u001b[0;1;31merror: \u001b[0m\u001b[1munknown type name 'PositionList'\u001b[0m\n",
      "    PositionList children = node.children();\n",
      "\u001b[0;1;32m    ^\n",
      "\u001b[0m\u001b[1minput_line_9:4:10: \u001b[0m\u001b[0;1;31merror: \u001b[0m\u001b[1munknown type name 'Iterator'\u001b[0m\n",
      "    for (Iterator node = children.begin(); node != children.end(); ++node) {\n",
      "\u001b[0;1;32m         ^\n",
      "\u001b[0m"
     ]
    },
    {
     "ename": "Interpreter Error",
     "evalue": "",
     "output_type": "error",
     "traceback": [
      "Interpreter Error: "
     ]
    }
   ],
   "source": [
    "void preorderTraversal(const Tree& tree, const Position& node) {\n",
    "    // Process the node with code here\n",
    "    PositionList children = node.children();\n",
    "    for (Iterator node = children.begin(); node != children.end(); ++node) {\n",
    "        preorderTraversal(tree, node);\n",
    "    }\n",
    "}"
   ]
  },
  {
   "cell_type": "markdown",
   "metadata": {},
   "source": [
    "Preorder traversals should be used when parent nodes must be processed before their children (ex. the sections of a white paper). In general, a preorder traversal is an efficient method of visiting all the nodes in a tree, which occurs in $O(n)$ time. The analysis is as follows:\n",
    "- Suppose processing a node takes $O(1)$ time\n",
    "- At each node, the traversal calls node.children() which takes $O(c_p)$ time to return $c_p$ children\n",
    "- Therefore, the entirety of the non-recursive part of the algorithm takes $O(1+c_p)$ time\n",
    "- If preorderTraversal() is called on the root node, all nodes will eventually be visited, so the whole algorithm takes $\\sum_p (1+c_p)$ time\n",
    "- Since $\\sum_p c_p = n-1$ the algorithm takes $O(n)$ time"
   ]
  },
  {
   "cell_type": "markdown",
   "metadata": {},
   "source": [
    "**Postorder Traversal**\n",
    "\n",
    "In a postorder traversal of a tree $T$, children nodes are processed before parent nodes. Then the tree is processed \"bottom-up\", in the sense that the traversal will visit a given node $p$ after it has visited all the other nodes in the subtree rooted at $p$."
   ]
  },
  {
   "cell_type": "code",
   "execution_count": 4,
   "metadata": {},
   "outputs": [
    {
     "name": "stderr",
     "output_type": "stream",
     "text": [
      "\u001b[1minput_line_10:1:31: \u001b[0m\u001b[0;1;31merror: \u001b[0m\u001b[1munknown type name 'Tree'\u001b[0m\n",
      "void postorderTraversal(const Tree& tree, const Position& node) {\n",
      "\u001b[0;1;32m                              ^\n",
      "\u001b[0m\u001b[1minput_line_10:1:49: \u001b[0m\u001b[0;1;31merror: \u001b[0m\u001b[1munknown type name 'Position'\u001b[0m\n",
      "void postorderTraversal(const Tree& tree, const Position& node) {\n",
      "\u001b[0;1;32m                                                ^\n",
      "\u001b[0m\u001b[1minput_line_10:2:5: \u001b[0m\u001b[0;1;31merror: \u001b[0m\u001b[1munknown type name 'PositionList'\u001b[0m\n",
      "    PositionList children = node.children();\n",
      "\u001b[0;1;32m    ^\n",
      "\u001b[0m\u001b[1minput_line_10:3:10: \u001b[0m\u001b[0;1;31merror: \u001b[0m\u001b[1munknown type name 'Iterator'\u001b[0m\n",
      "    for (Iterator node = children.begin(); node != children.end(); ++node) {\n",
      "\u001b[0;1;32m         ^\n",
      "\u001b[0m"
     ]
    },
    {
     "ename": "Interpreter Error",
     "evalue": "",
     "output_type": "error",
     "traceback": [
      "Interpreter Error: "
     ]
    }
   ],
   "source": [
    "void postorderTraversal(const Tree& tree, const Position& node) {\n",
    "    PositionList children = node.children();\n",
    "    for (Iterator node = children.begin(); node != children.end(); ++node) {\n",
    "        preorderTraversal(tree, node);\n",
    "    }\n",
    "    // Process the node with code here\n",
    "}"
   ]
  },
  {
   "cell_type": "markdown",
   "metadata": {},
   "source": [
    "Which has time complexity $O(n)$ for the same reasons as the preorder traversal. \n",
    "\n",
    "Postorder traversals should be used when we want to compute a property of a node $p$ that requires the same property to have been computed for all children of $p$. An example of this is determining the disk space used by a directory that is organzied in a tree structure; we need to first determine the sizes of the subdirectories and then sum them to determine the size of the main directory.\n",
    "\n",
    "Remark: both preorder and postorder traversals implicitly use a stack through their recursive calls. It is possible to implement these traversals without recursion by directly using a stack."
   ]
  },
  {
   "cell_type": "markdown",
   "metadata": {},
   "source": [
    "# 7.3 - Binary Trees\n",
    "\n",
    "A binary tree is an ordered tree in which every node has **at most** two children. The children are referred to as *left* and *right* and a left child precedes a right children in the ordering of the node's children.\n",
    "\n",
    "The **left subtree** and **right subtree** refer to the subtrees rooted at the left and right child node, respectively. Thus, any binary tree can be recursively defined as a root and two binary trees (left and right).\n",
    "\n",
    "A binary tree is called **proper** or **full** if each node has either zero or two children. Thus, every *internal* node will have exactly two children. Otherwise, the tree is called **improper**. \n",
    "\n",
    "Examples: both decision trees and arithmetic expressions can be represented by proper binary trees.\n",
    "\n",
    "As before, we can use positions to encapsulate binary tree nodes in an implementation."
   ]
  },
  {
   "cell_type": "code",
   "execution_count": 5,
   "metadata": {},
   "outputs": [
    {
     "name": "stderr",
     "output_type": "stream",
     "text": [
      "\u001b[1minput_line_11:1:11: \u001b[0m\u001b[0;1;31merror: \u001b[0m\u001b[1munknown type name 'T'\u001b[0m\n",
      "template <T>\n",
      "\u001b[0;1;32m          ^\n",
      "\u001b[0m\u001b[1minput_line_11:2:18: \u001b[0m\u001b[0;1;31merror: \u001b[0m\u001b[1muse of undeclared identifier 'T'\u001b[0m\n",
      "class BTPosition<T> {\n",
      "\u001b[0;1;32m                 ^\n",
      "\u001b[0m\u001b[1minput_line_11:2:7: \u001b[0m\u001b[0;1;31merror: \u001b[0m\u001b[1mexplicit specialization of non-template class 'BTPosition'\u001b[0m\n",
      "class BTPosition<T> {\n",
      "\u001b[0;1;32m      ^\n",
      "\u001b[0m"
     ]
    },
    {
     "ename": "Interpreter Error",
     "evalue": "",
     "output_type": "error",
     "traceback": [
      "Interpreter Error: "
     ]
    }
   ],
   "source": [
    "template <T>\n",
    "class BTPosition<T> {\n",
    "public:\n",
    "  BTPosition left() const;            // get left child\n",
    "  BTPosition right() const;           // get right child\n",
    "  BTPosition parent() const;\n",
    "  bool isRoot() const;\n",
    "  bool isExternal() const;\n",
    "};"
   ]
  },
  {
   "cell_type": "markdown",
   "metadata": {},
   "source": [
    "Then the binary tree implementation is essentially the same as any other tree."
   ]
  },
  {
   "cell_type": "code",
   "execution_count": 6,
   "metadata": {},
   "outputs": [
    {
     "name": "stderr",
     "output_type": "stream",
     "text": [
      "\u001b[1minput_line_12:1:11: \u001b[0m\u001b[0;1;31merror: \u001b[0m\u001b[1munknown type name 'T'\u001b[0m\n",
      "template <T>\n",
      "\u001b[0;1;32m          ^\n",
      "\u001b[0m\u001b[1minput_line_12:2:18: \u001b[0m\u001b[0;1;31merror: \u001b[0m\u001b[1muse of undeclared identifier 'T'\u001b[0m\n",
      "class BinaryTree<T> {\n",
      "\u001b[0;1;32m                 ^\n",
      "\u001b[0m\u001b[1minput_line_12:2:7: \u001b[0m\u001b[0;1;31merror: \u001b[0m\u001b[1mexplicit specialization of non-template class 'BinaryTree'\u001b[0m\n",
      "class BinaryTree<T> {\n",
      "\u001b[0;1;32m      ^\n",
      "\u001b[0m\u001b[1minput_line_12:8:14: \u001b[0m\u001b[0;1;31merror: \u001b[0m\u001b[1mexpected ';' at end of declaration list\u001b[0m\n",
      "  int empty()\n",
      "\u001b[0;1;32m             ^\n",
      "\u001b[0m\u001b[0;32m             ;\n",
      "\u001b[0m"
     ]
    },
    {
     "ename": "Interpreter Error",
     "evalue": "",
     "output_type": "error",
     "traceback": [
      "Interpreter Error: "
     ]
    }
   ],
   "source": [
    "template <T>\n",
    "class BinaryTree<T> {\n",
    "public:\n",
    "  class BTPosition;\n",
    "  class PositionList;\n",
    "  \n",
    "  int size();\n",
    "  int empty()\n",
    "  BTPosition root();\n",
    "  PositionList positions();\n",
    "};"
   ]
  },
  {
   "cell_type": "markdown",
   "metadata": {},
   "source": [
    "**Properties of Binary Trees**"
   ]
  }
 ],
 "metadata": {
  "kernelspec": {
   "display_name": "C++17",
   "language": "C++17",
   "name": "xcpp17"
  },
  "language_info": {
   "codemirror_mode": "text/x-c++src",
   "file_extension": ".cpp",
   "mimetype": "text/x-c++src",
   "name": "c++",
   "version": "-std=c++17"
  }
 },
 "nbformat": 4,
 "nbformat_minor": 2
}
