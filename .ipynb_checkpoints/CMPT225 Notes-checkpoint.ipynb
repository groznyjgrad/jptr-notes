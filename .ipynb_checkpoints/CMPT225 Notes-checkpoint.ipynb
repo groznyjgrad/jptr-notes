{
 "cells": [
  {
   "cell_type": "markdown",
   "metadata": {},
   "source": [
    "# 7.1 - Trees\n",
    "\n",
    "A tree $T$ can be defined as a set of nodes which store elements that exist in a **parent-child relationship.** \n",
    "\n",
    "Properties of a tree $T$:\n",
    "- If $T$ is nonempty, then it has a node called its **root** which has no parent\n",
    "- Each *other* node of $T$ has a **unique** parent $w$, and every node with parent $w$ is a child of $w$\n",
    "\n",
    "Using these properties, trees can be defined **recursively**:\n",
    "- A tree $T$ is either empty, or it contains a root $r$ whose children are the roots of a set of (sub)trees.\n",
    "\n",
    "Tree terminology regarding relationships between nodes and substructures:\n",
    "- Siblings: two or more nodes which have the same parent.\n",
    "- Internal node: any node that has at least one child.\n",
    "- Leaf/External node: any node which has no children.\n",
    "- Ancestor: A node $v$ is an ancestor of a node $w$ if $v = w$ or if $v$ is an ancestor of a parent of $w$.\n",
    "- Subtree of $T$ rooted at $v$: describes the tree which consists of node $v$ and all its descendents in the tree $T$.\n",
    "- Edge: a pair of parent-child nodes, ex. $(u,v)$.\n",
    "- Path: a sequence of parent-child nodes, or a sequence of nodes in which any two consecutive nodes form an edge.\n",
    "- Ordered tree: describes a tree in which the left-to-right arrangement of siblings corresponds to a relationship that is relevant to the usage of the tree.\n",
    "\n",
    "**The Tree API**\n",
    "    \n",
    "Recall that the *position* data type abstracts the notion of the relative position or place of an element within a data structure. Because nodes are internal aspects of the implementation of trees, it is appropriate to encapsulate the nodes using position objects. Practically, this means that the arguments to Tree methods are positions, not nodes. \n",
    "\n",
    "The Position interface consists of five methods:"
   ]
  },
  {
   "cell_type": "code",
   "execution_count": null,
   "metadata": {},
   "outputs": [],
   "source": [
    "template <typename E>\n",
    "class Position<E> {\n",
    "public:\n",
    "  E& operator*();                     // get the node's element\n",
    "  Position parent() const;            // get parent\n",
    "  PositionList children() const;      // get a list of the node's children\n",
    "  bool isRoot() const;                // returns true if root, false otherwise\n",
    "  bool isExternal() const;            // returns true if external, false otherwise\n",
    "};"
   ]
  },
  {
   "cell_type": "markdown",
   "metadata": {},
   "source": [
    "The Tree interface consists of four methods:"
   ]
  },
  {
   "cell_type": "code",
   "execution_count": null,
   "metadata": {},
   "outputs": [],
   "source": [
    "template <typename E>\n",
    "class Tree<E> {\n",
    "public:\n",
    "  class Position;\n",
    "  class PositionList;                      // give public access to Position and PositionList; this is \n",
    "                                           // how other objects will use the Tree\n",
    "  \n",
    "  int size() const;       \n",
    "  bool empty() const;\n",
    "  Position root() const;                   // get the root of the tree\n",
    "  PositionList positions() const;          // get a list of positions referring to each node in the\n",
    "                                           // tree"
   ]
  },
  {
   "cell_type": "markdown",
   "metadata": {},
   "source": [
    "Trees can be implemented using a **linked structure** in which each node of the tree is represented by a position object that has three fields:\n",
    "- Pointer to the node's parent (NULL, if root)\n",
    "- Reference to the node's element\n",
    "- Pointer to a container holding the node's children (a list, in the above interface)\n",
    "\n",
    "Then the running times of the functions are:\n",
    "\n",
    "| Operation | Running time   |\n",
    "|------|------|\n",
    "|   isRoot, isExternal  | O(1) |\n",
    "| parent | O(1) |\n",
    "| children(p) | O($c_p$)|\n",
    "| size, empty | O(1) |\n",
    "| root | O(1) |\n",
    "| positions | O($n$) |\n",
    "\n",
    "Where $c_p$ is the number of children of the node referenced by $p$."
   ]
  },
  {
   "cell_type": "markdown",
   "metadata": {},
   "source": [
    "# 7.2 - Tree Traversal Algorithms\n",
    "\n"
   ]
  }
 ],
 "metadata": {
  "kernelspec": {
   "display_name": "C++17",
   "language": "C++17",
   "name": "xcpp17"
  },
  "language_info": {
   "codemirror_mode": "text/x-c++src",
   "file_extension": ".cpp",
   "mimetype": "text/x-c++src",
   "name": "c++",
   "version": "-std=c++17"
  }
 },
 "nbformat": 4,
 "nbformat_minor": 2
}
